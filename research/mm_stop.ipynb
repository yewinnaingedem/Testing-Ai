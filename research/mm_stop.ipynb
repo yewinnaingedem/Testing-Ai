{
 "cells": [
  {
   "cell_type": "code",
   "execution_count": 2,
   "metadata": {},
   "outputs": [
    {
     "name": "stderr",
     "output_type": "stream",
     "text": [
      "/home/yewinnaing/miniconda3/envs/my_chatbot_env/lib/python3.10/site-packages/tqdm/auto.py:21: TqdmWarning: IProgress not found. Please update jupyter and ipywidgets. See https://ipywidgets.readthedocs.io/en/stable/user_install.html\n",
      "  from .autonotebook import tqdm as notebook_tqdm\n",
      "Downloading https://raw.githubusercontent.com/stanfordnlp/stanza-resources/main/resources_1.10.0.json: 424kB [00:00, 20.6MB/s]                    \n",
      "2025-04-03 14:48:11 INFO: Downloaded file to /home/yewinnaing/stanza_resources/resources.json\n",
      "2025-04-03 14:48:11 INFO: Downloading default packages for language: my (Myanmar) ...\n",
      "2025-04-03 14:48:22 INFO: File exists: /home/yewinnaing/stanza_resources/my/default.zip\n",
      "2025-04-03 14:48:33 INFO: Finished downloading models and saved to /home/yewinnaing/stanza_resources\n"
     ]
    }
   ],
   "source": [
    "import stanza\n",
    "\n",
    "stanza.download(\"my\")  # Download Myanmar language model\n",
    "                                                                                  "
   ]
  },
  {
   "cell_type": "code",
   "execution_count": 3,
   "metadata": {},
   "outputs": [
    {
     "name": "stderr",
     "output_type": "stream",
     "text": [
      "2025-04-03 14:48:58 INFO: Checking for updates to resources.json in case models have been updated.  Note: this behavior can be turned off with download_method=None or download_method=DownloadMethod.REUSE_RESOURCES\n",
      "Downloading https://raw.githubusercontent.com/stanfordnlp/stanza-resources/main/resources_1.10.0.json: 424kB [00:00, 9.37MB/s]                    \n",
      "2025-04-03 14:48:58 INFO: Downloaded file to /home/yewinnaing/stanza_resources/resources.json\n",
      "2025-04-03 14:49:01 INFO: Loading these models for language: my (Myanmar):\n",
      "=======================\n",
      "| Processor | Package |\n",
      "-----------------------\n",
      "| tokenize  | alt     |\n",
      "| ner       | ucsy    |\n",
      "=======================\n",
      "\n",
      "2025-04-03 14:49:01 INFO: Using device: cpu\n",
      "2025-04-03 14:49:01 INFO: Loading: tokenize\n",
      "2025-04-03 14:49:27 INFO: Loading: ner\n",
      "2025-04-03 14:49:45 INFO: Done loading processors!\n"
     ]
    }
   ],
   "source": [
    "nlp = stanza.Pipeline(\"my\")\n"
   ]
  },
  {
   "cell_type": "code",
   "execution_count": 5,
   "metadata": {},
   "outputs": [],
   "source": [
    "text = \"မင်္ဂလာပါ! ကျွန်ုပ်တို့၏ ဆိုင်တွင် သင့်တင့်သော ဈေးနှုန်းများဖြင့် ဝယ်ယူနိုင်ပါသည်။\""
   ]
  },
  {
   "cell_type": "code",
   "execution_count": 6,
   "metadata": {},
   "outputs": [
    {
     "name": "stdout",
     "output_type": "stream",
     "text": [
      "Word: မင်္ဂလာ \n",
      "Word: ပါ \n",
      "Word: ! \n",
      "Word: ကျွန်ုပ် \n",
      "Word: တို့ \n",
      "Word: ၏ \n",
      "Word: ဆိုင် \n",
      "Word: တွင် \n",
      "Word: သင့်တင့် \n",
      "Word: သော \n",
      "Word: ဈေးနှုန်း \n",
      "Word: များ \n",
      "Word: ဖြင့် \n",
      "Word: ဝယ်ယူ \n",
      "Word: နိုင် \n",
      "Word: ပါ \n",
      "Word: သည် \n",
      "Word: ။ \n"
     ]
    }
   ],
   "source": [
    "doc = nlp(text)\n",
    "\n",
    "# Extract words and POS tags\n",
    "for sentence in doc.sentences:\n",
    "    for word in sentence.words:\n",
    "        print(f\"Word: {word.text} \")"
   ]
  },
  {
   "cell_type": "code",
   "execution_count": null,
   "metadata": {},
   "outputs": [],
   "source": [
    "def load_stopwords_from_file(file_path):\n",
    "    with open(file_path, \"r\", encoding=\"utf-8\") as file:\n",
    "        stopwords = {line.strip() for line in file}\n",
    "    return stopwords"
   ]
  },
  {
   "cell_type": "code",
   "execution_count": 8,
   "metadata": {},
   "outputs": [],
   "source": [
    "def get_stopwords():\n",
    "    return load_stopwords_from_file(\"/home/yewinnaing/Ai-Training/research/words/stop_words.txt\")"
   ]
  },
  {
   "cell_type": "code",
   "execution_count": 9,
   "metadata": {},
   "outputs": [],
   "source": [
    "myanmar_stopwords = get_stopwords()"
   ]
  },
  {
   "cell_type": "code",
   "execution_count": 24,
   "metadata": {},
   "outputs": [
    {
     "data": {
      "text/plain": [
       "{'က',\n",
       " 'ကလေး',\n",
       " 'ကာ',\n",
       " 'ကို',\n",
       " 'ကောင်း',\n",
       " 'ကျွန်တော်',\n",
       " 'ကြ',\n",
       " 'ကြည့်',\n",
       " 'ကြီး',\n",
       " 'ခု',\n",
       " 'ခဲ့',\n",
       " 'ချင်',\n",
       " 'ခြင်း',\n",
       " 'စေ',\n",
       " 'စွာ',\n",
       " 'ဆို',\n",
       " 'တစ်',\n",
       " 'တယ်',\n",
       " 'တာ',\n",
       " 'တို့',\n",
       " 'တောင်',\n",
       " 'တော့',\n",
       " 'တဲ့',\n",
       " 'တွင်',\n",
       " 'တွေ',\n",
       " 'ထား',\n",
       " 'ထဲ',\n",
       " 'ဒီ',\n",
       " 'နိုင်',\n",
       " 'နိုင်ငံ',\n",
       " 'နေ',\n",
       " 'နော်',\n",
       " 'နဲ့',\n",
       " 'နှင့်',\n",
       " 'နှစ်',\n",
       " 'ပင်',\n",
       " 'ပါ',\n",
       " 'ပေါ့',\n",
       " 'ပေါ်',\n",
       " 'ပေး',\n",
       " 'ပဲ',\n",
       " 'ပြန်',\n",
       " 'ပြီ',\n",
       " 'ပြီး',\n",
       " 'ပြော',\n",
       " 'ဖို့',\n",
       " 'ဖြင့်',\n",
       " 'ဖြစ်',\n",
       " 'ဘာ',\n",
       " 'ဘူး',\n",
       " 'မ',\n",
       " 'မည်',\n",
       " 'မယ်',\n",
       " 'များ',\n",
       " 'မြန်မာ',\n",
       " 'မှ',\n",
       " 'မှာ',\n",
       " 'မှု',\n",
       " 'ယောက်',\n",
       " 'ရ',\n",
       " 'ရင်',\n",
       " 'ရန်',\n",
       " 'ရာ',\n",
       " 'ရေ',\n",
       " 'ရောက်',\n",
       " 'ရေး',\n",
       " 'ရဲ့',\n",
       " 'ရှိ',\n",
       " 'လည်း',\n",
       " 'လာ',\n",
       " 'လား',\n",
       " 'လို',\n",
       " 'လိုက်',\n",
       " 'လို့',\n",
       " 'လုပ်',\n",
       " 'လူ',\n",
       " 'လေ',\n",
       " 'လေး',\n",
       " 'လဲ',\n",
       " 'လျှင်',\n",
       " 'သည့်',\n",
       " 'သည်',\n",
       " 'သည့်',\n",
       " 'သာ',\n",
       " 'သိ',\n",
       " 'သို့',\n",
       " 'သူ',\n",
       " 'သူ့',\n",
       " 'သော',\n",
       " 'သွား',\n",
       " 'ဟာ',\n",
       " 'ဟု',\n",
       " 'ဟုတ်',\n",
       " 'အတွက်',\n",
       " 'အား',\n",
       " 'အောင်',\n",
       " 'ဦး',\n",
       " '၌',\n",
       " '၍',\n",
       " '၏'}"
      ]
     },
     "execution_count": 24,
     "metadata": {},
     "output_type": "execute_result"
    }
   ],
   "source": [
    "myanmar_stopwords"
   ]
  },
  {
   "cell_type": "code",
   "execution_count": 10,
   "metadata": {},
   "outputs": [],
   "source": [
    "filtered_words = [\n",
    "    word.text for sentence in doc.sentences for word in sentence.words\n",
    "    if word.text not in myanmar_stopwords\n",
    "]"
   ]
  },
  {
   "cell_type": "code",
   "execution_count": 11,
   "metadata": {},
   "outputs": [
    {
     "data": {
      "text/plain": [
       "['မင်္ဂလာ', '!', 'ကျွန်ုပ်', 'ဆိုင်', 'သင့်တင့်', 'ဈေးနှုန်း', 'ဝယ်ယူ', '။']"
      ]
     },
     "execution_count": 11,
     "metadata": {},
     "output_type": "execute_result"
    }
   ],
   "source": [
    "filtered_words"
   ]
  },
  {
   "cell_type": "code",
   "execution_count": 51,
   "metadata": {},
   "outputs": [],
   "source": [
    "\n",
    "train_data = [\n",
    "    (\"ဝယ်ယူ\", True),\n",
    "    (\"ကျွန်ုပ်\", False),\n",
    "    (\"ဆိုင်\", False),\n",
    "    (\"သင့်တင့်\", False),\n",
    "    (\"ဈေးနှုန်း\", False),\n",
    "    (\"!\", False),\n",
    "    (\"။\", False)\n",
    "]\n"
   ]
  },
  {
   "cell_type": "code",
   "execution_count": 52,
   "metadata": {},
   "outputs": [],
   "source": [
    "train_dict = dict(train_data)"
   ]
  },
  {
   "cell_type": "code",
   "execution_count": 53,
   "metadata": {},
   "outputs": [
    {
     "name": "stdout",
     "output_type": "stream",
     "text": [
      "False\n",
      "True count: 1, False count: 6\n"
     ]
    }
   ],
   "source": [
    "true_count = 0\n",
    "false_count = 0\n",
    "\n",
    "# Loop through each word in the input list\n",
    "for word in filtered_words:\n",
    "    if word in train_dict:\n",
    "        if train_dict[word]:  # If the word is associated with True in the training data\n",
    "            true_count += 1\n",
    "        else:  # If the word is associated with False in the training data\n",
    "            false_count += 1\n",
    "\n",
    "# Determine the final result based on the counts of True and False\n",
    "if true_count > false_count:\n",
    "    print(\"True\")\n",
    "else:\n",
    "    print(\"False\")\n",
    "\n",
    "# Print the counts for reference\n",
    "print(f\"True count: {true_count}, False count: {false_count}\")"
   ]
  },
  {
   "cell_type": "code",
   "execution_count": null,
   "metadata": {},
   "outputs": [
    {
     "name": "stdout",
     "output_type": "stream",
     "text": [
      "Cross-validation scores: [0.5 1.  1.  1.  1. ]\n",
      "Average accuracy: 0.9\n"
     ]
    },
    {
     "name": "stderr",
     "output_type": "stream",
     "text": [
      "/home/yewinnaing/miniconda3/envs/my_chatbot_env/lib/python3.10/site-packages/sklearn/model_selection/_split.py:805: UserWarning: The least populated class in y has only 1 members, which is less than n_splits=5.\n",
      "  warnings.warn(\n"
     ]
    }
   ],
   "source": []
  },
  {
   "cell_type": "code",
   "execution_count": null,
   "metadata": {},
   "outputs": [
    {
     "name": "stdout",
     "output_type": "stream",
     "text": [
      "Prediction for 'ဝယ်ယူ': False\n"
     ]
    }
   ],
   "source": []
  },
  {
   "cell_type": "code",
   "execution_count": null,
   "metadata": {},
   "outputs": [],
   "source": []
  }
 ],
 "metadata": {
  "kernelspec": {
   "display_name": "my_chatbot_env",
   "language": "python",
   "name": "python3"
  },
  "language_info": {
   "codemirror_mode": {
    "name": "ipython",
    "version": 3
   },
   "file_extension": ".py",
   "mimetype": "text/x-python",
   "name": "python",
   "nbconvert_exporter": "python",
   "pygments_lexer": "ipython3",
   "version": "3.10.16"
  }
 },
 "nbformat": 4,
 "nbformat_minor": 2
}
