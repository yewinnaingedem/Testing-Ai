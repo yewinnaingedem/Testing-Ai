{
 "cells": [
  {
   "cell_type": "code",
   "execution_count": 6,
   "metadata": {},
   "outputs": [
    {
     "name": "stdout",
     "output_type": "stream",
     "text": [
      "Okay\n"
     ]
    }
   ],
   "source": [
    "print(\"Okay\")"
   ]
  },
  {
   "cell_type": "code",
   "execution_count": 7,
   "metadata": {},
   "outputs": [
    {
     "data": {
      "text/plain": [
       "'/home/yewinnaing/Ai-Training/research'"
      ]
     },
     "execution_count": 7,
     "metadata": {},
     "output_type": "execute_result"
    }
   ],
   "source": [
    "%pwd"
   ]
  },
  {
   "cell_type": "code",
   "execution_count": 8,
   "metadata": {},
   "outputs": [
    {
     "data": {
      "text/plain": [
       "'/home/yewinnaing/Ai-Training'"
      ]
     },
     "execution_count": 8,
     "metadata": {},
     "output_type": "execute_result"
    }
   ],
   "source": [
    "import os \n",
    "os.chdir('../')\n",
    "%pwd\n"
   ]
  },
  {
   "cell_type": "code",
   "execution_count": 11,
   "metadata": {},
   "outputs": [],
   "source": [
    "from langchain.document_loaders import PyPDFLoader , DirectoryLoader \n",
    "from langchain.text_splitter import RecursiveCharacterTextSplitter"
   ]
  },
  {
   "cell_type": "code",
   "execution_count": 8,
   "metadata": {},
   "outputs": [],
   "source": [
    "def load_pdf_loader (data) : \n",
    "    loader = DirectoryLoader(data , glob=\"*.pdf\" , loader_cls=PyPDFLoader )\n",
    "    documents = loader.load() \n",
    "    return documents "
   ]
  },
  {
   "cell_type": "code",
   "execution_count": 9,
   "metadata": {},
   "outputs": [],
   "source": [
    "extractedData = load_pdf_loader(data=\"Data/\")"
   ]
  },
  {
   "cell_type": "code",
   "execution_count": null,
   "metadata": {},
   "outputs": [],
   "source": [
    "#extractedData\n"
   ]
  },
  {
   "cell_type": "code",
   "execution_count": null,
   "metadata": {},
   "outputs": [],
   "source": [
    "def text_splite (extractedData) :\n",
    "    text_splitter=RecursiveCharacterTextSplitter(chunk_size = 500 , chunk_overlap=20)\n",
    "    text_chunk = text_splitter.split_documents(extractedData)\n",
    "    return text_chunk "
   ]
  },
  {
   "cell_type": "code",
   "execution_count": 11,
   "metadata": {},
   "outputs": [
    {
     "name": "stdout",
     "output_type": "stream",
     "text": [
      "Lenght of text chunks 6356\n"
     ]
    }
   ],
   "source": [
    "txt_chunks = text_splite(extractedData)\n",
    "print('Lenght of text chunks' , len(txt_chunks))"
   ]
  },
  {
   "cell_type": "code",
   "execution_count": 6,
   "metadata": {},
   "outputs": [],
   "source": [
    "from langchain_community.embeddings import HuggingFaceEmbeddings\n",
    "\n",
    "def downloadHuggingFaceEmbedding():\n",
    "    embedding = HuggingFaceEmbeddings(model_name=\"sentence-transformers/all-MiniLM-L6-v2\")\n",
    "    return embedding"
   ]
  },
  {
   "cell_type": "code",
   "execution_count": 7,
   "metadata": {},
   "outputs": [
    {
     "name": "stderr",
     "output_type": "stream",
     "text": [
      "/tmp/ipykernel_17480/2029700098.py:4: LangChainDeprecationWarning: The class `HuggingFaceEmbeddings` was deprecated in LangChain 0.2.2 and will be removed in 1.0. An updated version of the class exists in the :class:`~langchain-huggingface package and should be used instead. To use it run `pip install -U :class:`~langchain-huggingface` and import as `from :class:`~langchain_huggingface import HuggingFaceEmbeddings``.\n",
      "  embedding = HuggingFaceEmbeddings(model_name=\"sentence-transformers/all-MiniLM-L6-v2\")\n",
      "/home/yewinnaing/miniconda3/envs/my_chatbot_env/lib/python3.10/site-packages/tqdm/auto.py:21: TqdmWarning: IProgress not found. Please update jupyter and ipywidgets. See https://ipywidgets.readthedocs.io/en/stable/user_install.html\n",
      "  from .autonotebook import tqdm as notebook_tqdm\n"
     ]
    }
   ],
   "source": [
    "embeddings = downloadHuggingFaceEmbedding()"
   ]
  },
  {
   "cell_type": "code",
   "execution_count": 12,
   "metadata": {},
   "outputs": [
    {
     "name": "stdout",
     "output_type": "stream",
     "text": [
      "lenght 384\n"
     ]
    }
   ],
   "source": [
    "query_result = embeddings.embed_query(\"hello world\")\n",
    "print(\"lenght\" , len(query_result))"
   ]
  },
  {
   "cell_type": "code",
   "execution_count": 2,
   "metadata": {},
   "outputs": [
    {
     "data": {
      "text/plain": [
       "True"
      ]
     },
     "execution_count": 2,
     "metadata": {},
     "output_type": "execute_result"
    }
   ],
   "source": [
    "from dotenv import load_dotenv \n",
    "load_dotenv()"
   ]
  },
  {
   "cell_type": "code",
   "execution_count": null,
   "metadata": {},
   "outputs": [
    {
     "name": "stdout",
     "output_type": "stream",
     "text": [
      "pcsk_77r8Kg_GipbZFJXfyyr72tgTHpuJXh1d5ZDuxuShjo9Dp13eGL5sqZJDS1QXrpmh2d219c\n"
     ]
    }
   ],
   "source": [
    "PINECONE_API_KEY= os.environ.get('PINECONE_API')\n"
   ]
  },
  {
   "cell_type": "code",
   "execution_count": 3,
   "metadata": {},
   "outputs": [],
   "source": [
    "index_name = \"chatbot\""
   ]
  },
  {
   "cell_type": "code",
   "execution_count": null,
   "metadata": {},
   "outputs": [
    {
     "data": {
      "text/plain": [
       "{\n",
       "    \"name\": \"chatbot\",\n",
       "    \"metric\": \"cosine\",\n",
       "    \"host\": \"chatbot-gj5tbq7.svc.aped-4627-b74a.pinecone.io\",\n",
       "    \"spec\": {\n",
       "        \"serverless\": {\n",
       "            \"cloud\": \"aws\",\n",
       "            \"region\": \"us-east-1\"\n",
       "        }\n",
       "    },\n",
       "    \"status\": {\n",
       "        \"ready\": true,\n",
       "        \"state\": \"Ready\"\n",
       "    },\n",
       "    \"vector_type\": \"dense\",\n",
       "    \"dimension\": 384,\n",
       "    \"deletion_protection\": \"disabled\",\n",
       "    \"tags\": null\n",
       "}"
      ]
     },
     "execution_count": 3,
     "metadata": {},
     "output_type": "execute_result"
    }
   ],
   "source": [
    "from pinecone.grpc import PineconeGRPC as Pinecone\n",
    "from pinecone import Pinecone, ServerlessSpec\n",
    "import os \n",
    "\n",
    "pc = Pinecone(api_key=PINECONE_API_KEY)\n",
    "\n",
    "\n",
    "\n",
    "\n",
    "pc.create_index(\n",
    "    name=index_name,\n",
    "    dimension= 384, # Replace with your model dimensions\n",
    "    metric=\"cosine\", # Replace with your model metric\n",
    "    spec=ServerlessSpec(\n",
    "        cloud=\"aws\",\n",
    "        region=\"us-east-1\"\n",
    "    ) \n",
    ")\n"
   ]
  },
  {
   "cell_type": "code",
   "execution_count": 23,
   "metadata": {},
   "outputs": [],
   "source": [
    "import os \n",
    "os.environ[\"PINECONE_API_KEY\"] = \"pcsk_77r8Kg_GipbZFJXfyyr72tgTHpuJXh1d5ZDuxuShjo9Dp13eGL5sqZJDS1QXrpmh2d219c\"\n",
    "os.environ[\"GROQ_API_KEY\"] = \"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\""
   ]
  },
  {
   "cell_type": "code",
   "execution_count": 18,
   "metadata": {},
   "outputs": [],
   "source": [
    "from langchain_pinecone import PineconeVectorStore\n",
    "\n",
    "docsearch = PineconeVectorStore.from_documents(\n",
    "    documents= txt_chunks,\n",
    "    index_name = index_name,\n",
    "    embedding= embeddings\n",
    ")"
   ]
  },
  {
   "cell_type": "markdown",
   "metadata": {},
   "source": []
  },
  {
   "cell_type": "code",
   "execution_count": 13,
   "metadata": {},
   "outputs": [],
   "source": [
    "from langchain_pinecone import PineconeVectorStore\n",
    "\n",
    "docsearch  = PineconeVectorStore.from_existing_index(\n",
    "    index_name=index_name ,\n",
    "    embedding=embeddings\n",
    ")\n"
   ]
  },
  {
   "cell_type": "code",
   "execution_count": 35,
   "metadata": {},
   "outputs": [],
   "source": [
    "retriver = docsearch.as_retriever(search_type=\"similarity\" , search_kwargs={'k' : 3}) "
   ]
  },
  {
   "cell_type": "code",
   "execution_count": 15,
   "metadata": {},
   "outputs": [],
   "source": [
    "retrived_docs = retriver.invoke('What is Acne?')"
   ]
  },
  {
   "cell_type": "code",
   "execution_count": 16,
   "metadata": {},
   "outputs": [
    {
     "data": {
      "text/plain": [
       "[Document(id='4cf98d3d-194c-46f9-9708-af836e1224cd', metadata={'author': \"Ian B. Wilkinson,Tim Raine,Kate Wiles,Anna Goodhart,Catriona Hall,Harriet O'Neill\", 'creationdate': '2017-05-02T19:09:54+01:00', 'creator': 'Adobe InDesign CS6 (Macintosh)', 'ebx_publisher': 'Oxford University Press USA', 'gts_pdfxconformance': 'PDF/X-1a:2001', 'gts_pdfxversion': 'PDF/X-1:2001', 'moddate': '2017-09-10T00:55:19+06:30', 'page': 216.0, 'page_label': '217', 'producer': 'Acrobat Distiller 10.1.16 (Macintosh)', 'source': 'Data/train_ai.pdf', 'title': 'Oxford Handbook of Clinical Medicine', 'total_pages': 911.0, 'trapped': '/False'}, page_content='pads; striae.\\nAddison’s disease: Hyperpigmentation (face, neck, palmar creases).\\nAcromegaly: Acral (distal) + soft tissue overgrowth; big jaws (macro-\\ngnathia), hands and feet; the skin is thick; facial features are coarse.\\nHyperandrogenism ( \\ue033): Hirsutism; temporal balding; acne.\\nHypopituitarism:  Pale or yellow tinged thinned skin, resulting in \\nﬁ ne wrinkling around the eyes and mouth, making the patient look \\nolder.\\nHypoparathyroidism: Dry, scaly, puff y skin; brittle nails; coarse hair.'),\n",
       " Document(id='b9aa0be6-cac7-40ce-928c-7a642f8a1021', metadata={'author': \"Ian B. Wilkinson,Tim Raine,Kate Wiles,Anna Goodhart,Catriona Hall,Harriet O'Neill\", 'creationdate': '2017-05-02T19:09:54+01:00', 'creator': 'Adobe InDesign CS6 (Macintosh)', 'ebx_publisher': 'Oxford University Press USA', 'gts_pdfxconformance': 'PDF/X-1a:2001', 'gts_pdfxversion': 'PDF/X-1:2001', 'moddate': '2017-09-10T00:55:19+06:30', 'page': 575.0, 'page_label': '576', 'producer': 'Acrobat Distiller 10.1.16 (Macintosh)', 'source': 'Data/train_ai.pdf', 'title': 'Oxford Handbook of Clinical Medicine', 'total_pages': 911.0, 'trapped': '/False'}, page_content='pigmented borders. Sunlight makes them itch. Associations: autoimmune disorders; \\npremature ovarian failure. Treat by camouﬂ age cosmetics and sunscreens (± steroid \\ncreams ± dermabrasion). UK Vitiligo Society: 0800 018 2631.\\nSpeciﬁ c diseases and their skin manifestations\\nCrohn’s Perianal/vulval/oral ulcers; erythema nodosum; pyoderma gangrenosum.\\nDermatomyositis Gottron’s papules (rough red papules on the knuckles/extensor \\nsurf'),\n",
       " Document(id='a07034e7-8227-4e98-8190-f7e1cc678795', metadata={'author': \"Ian B. Wilkinson,Tim Raine,Kate Wiles,Anna Goodhart,Catriona Hall,Harriet O'Neill\", 'creationdate': '2017-05-02T19:09:54+01:00', 'creator': 'Adobe InDesign CS6 (Macintosh)', 'ebx_publisher': 'Oxford University Press USA', 'gts_pdfxconformance': 'PDF/X-1a:2001', 'gts_pdfxversion': 'PDF/X-1:2001', 'moddate': '2017-09-10T00:55:19+06:30', 'page': 216.0, 'page_label': '217', 'producer': 'Acrobat Distiller 10.1.16 (Macintosh)', 'source': 'Data/train_ai.pdf', 'title': 'Oxford Handbook of Clinical Medicine', 'total_pages': 911.0, 'trapped': '/False'}, page_content='Thyrotoxicosis: Hair loss; pretibial myxoedema (confusing term, p 218); onycho-\\nlysis (nail separation from the nailbed); bulging eyes (exophthalmos/proptosis).\\nHypothyroidism:  Hair loss; eyebrow loss; cold, pale skin; characteristic face. You \\nmight, perhaps should, fail your exam if you blurt out ‘Toad-like face’.\\nCushing’s syndrome:  Central obesity and wasted limbs ( =‘lemon \\non sticks’ see ﬁ g 5.2); moon face; buff  alo hump; supraclavicular fat \\npads; striae.')]"
      ]
     },
     "execution_count": 16,
     "metadata": {},
     "output_type": "execute_result"
    }
   ],
   "source": [
    "retrived_docs"
   ]
  },
  {
   "cell_type": "code",
   "execution_count": 13,
   "metadata": {},
   "outputs": [],
   "source": [
    "# from langchain_openai import OpenAI\n",
    "# llm = OpenAI(temperature=0.4 , max_tokens=500) "
   ]
  },
  {
   "cell_type": "code",
   "execution_count": null,
   "metadata": {},
   "outputs": [],
   "source": [
    "# from langchain.chains import create_retrieval_chain\n",
    "# from langchain.chains.combine_documents import  create_stuff_documents_chain \n",
    "# from langchain.prompts import ChatPromptTemplate\n",
    "\n",
    "# systemPrompt = (\n",
    "#     \"You are an assitant for the question-answering task\"\n",
    "#     \"Use the fllowing piceces of reterived context to answer\"\n",
    "#     \"the question. If you don't know the answer , say that you \"\n",
    "#     \"don't know . Use three sentense maximum and keep the \"\n",
    "#     \"answer conices\" \n",
    "#     \"\\n\\n\" \n",
    "#     \"{context}\"\n",
    "# )\n",
    "\n",
    "# prompt = ChatPromptTemplate.from_messages(\n",
    "#     [\n",
    "#         (\"system\" , systemPrompt)\n",
    "#         ('human' , \"{input}\")\n",
    "#     ]\n",
    "# )\n",
    "                                                                                                                                                                                                                                                                                                                                                                                                                                                                                                                                                                                                                                                                                                                                                                                                                                                                                                                                                                                                                                                                                                                                                                                                                                                                                                                                                                                                                                                                                                                                                                                                                                                                                                                                                                                                                                                                                                                                                                                                                                                                                                                                                                                                                                                                                                                                                                                                                                                                                                                                                                                                                                                                                                                                                                                                                                                                                                                                                                                                                                                                                                                                                                                                                                                                                                                                                                                                                                                                                                                                                                                                                                                                                                                                                                                                                                                                                                                                                                                                                                                                                                                                                                                                                                                                                                                                                                                                                                                                                                                                                                                                                 "
   ]
  },
  {
   "cell_type": "code",
   "execution_count": 14,
   "metadata": {},
   "outputs": [],
   "source": [
    "# questionAnswerChain = create_stuff_documents_chain(llm , prompt )\n",
    "# ragChain = create_retrieval_chain(retriver , questionAnswerChain)"
   ]
  },
  {
   "cell_type": "code",
   "execution_count": null,
   "metadata": {},
   "outputs": [],
   "source": [
    "response = ragChain.invoke({\"input\" : \"What is Actne ? \"})\n",
    "print(response['answer'])"
   ]
  },
  {
   "cell_type": "code",
   "execution_count": 47,
   "metadata": {},
   "outputs": [
    {
     "name": "stdout",
     "output_type": "stream",
     "text": [
      "အက်စ်နီ (Acne) ဆိုသည်မှာ အရေပြားပေါ်တွင် ဖြစ်ပေါ်လာသော အနာအများများ ဖြစ်သည်။ အက်စ်နီ ဖြစ်ရန် အကြောင်းများစွာ ရှိသည်။ အက်စ်နီ ဖြစ်ရန် အကြောင်းတစ်ခုမှာ ဟိုင်းပါအန်ဒြိုဂျင် (Hyperandrogenism) ဖြစ်သည်။ ဟိုင်းပါအန်ဒြိုဂျင် ရှိသူများတွင် အက်စ်နီ အများအပြား ဖြစ်ပေါ်လေ့ ရှိသည်။\n"
     ]
    }
   ],
   "source": [
    "from langchain_groq import ChatGroq\n",
    "from langchain.chains import create_retrieval_chain\n",
    "from langchain.chains.combine_documents import create_stuff_documents_chain\n",
    "from langchain.prompts import ChatPromptTemplate\n",
    "\n",
    "# Initialize the LLM\n",
    "llm = ChatGroq(\n",
    "    model=\"llama-3.3-70b-versatile\",\n",
    "    temperature=0.0,\n",
    "    max_retries=2,\n",
    ")\n",
    "\n",
    "# Define the system prompt\n",
    "systemPrompt = (\n",
    "    \"You are an assistant for the question-answering task. \"\n",
    "    \"Use the following pieces of retrieved context to answer \"\n",
    "    \"the question. If you don't know the answer, say that you \"\n",
    "    \"don't know. Use three sentences maximum and keep the \"\n",
    "    \"answer concise. \"\n",
    "    \"Always answer in the Myanmar (Burmese) language.\"\n",
    "    \"\\n\\n\"\n",
    "    \"{context}\"\n",
    ")\n",
    "\n",
    "# Create the prompt template\n",
    "prompt = ChatPromptTemplate.from_messages(\n",
    "    [\n",
    "        (\"system\", systemPrompt),\n",
    "        (\"human\", \"{input}\")\n",
    "    ]\n",
    ")\n",
    "\n",
    "# Create the question-answering chain using the LLM and the prompt\n",
    "questionAnswerChain = create_stuff_documents_chain(llm, prompt)\n",
    "\n",
    "# retriver = docsearch.as_retriever(search_type=\"similarity\" , search_kwargs={'k' : 3}) \n",
    "ragChain = create_retrieval_chain(retriver, questionAnswerChain)\n",
    "\n",
    "# Use the chain to get the answer to a question\n",
    "response = ragChain.invoke({\"input\": \"What is Acne\"})\n",
    "\n",
    "# Print the response\n",
    "print(response['answer'])\n"
   ]
  },
  {
   "cell_type": "code",
   "execution_count": null,
   "metadata": {},
   "outputs": [],
   "source": [
    "import mysql.connector\n",
    "# db = mysql.connector.connect(\n",
    "#     host=\"127.0.0.1\",\n",
    "#     user=\"root\",\n",
    "#     password=\"yourpassword\",\n",
    "#     database=\"play_ground\"\n",
    "# )\n",
    "cursor = db.cursor()\n",
    "cursor.execute(\"SELECT * FROM users\")\n",
    "rows = cursor.fetchall()\n",
    "# Convert rows to text format\n",
    "extractedData = \"\\n\".join([str(row[0]) for row in rows])\n",
    "\n",
    "\n",
    "# Close database connection\n",
    "cursor.close()\n",
    "db.close()"
   ]
  },
  {
   "cell_type": "code",
   "execution_count": 15,
   "metadata": {},
   "outputs": [],
   "source": [
    "# embeddings = downloadHuggingFaceEmbedding()\n",
    "# txt_chunks = text_splite(extractedData)"
   ]
  },
  {
   "cell_type": "code",
   "execution_count": null,
   "metadata": {},
   "outputs": [],
   "source": []
  },
  {
   "cell_type": "code",
   "execution_count": null,
   "metadata": {},
   "outputs": [],
   "source": [
    "pc.create_index(\n",
    "    name=index_name,\n",
    "    dimension=384,  # Replace with your model dimensions\n",
    "    metric=\"cosine\",\n",
    "    spec=ServerlessSpec(cloud=\"aws\", region=\"us-east-1\")\n",
    ")"
   ]
  },
  {
   "cell_type": "code",
   "execution_count": null,
   "metadata": {},
   "outputs": [],
   "source": []
  }
 ],
 "metadata": {
  "kernelspec": {
   "display_name": "my_chatbot_env",
   "language": "python",
   "name": "python3"
  },
  "language_info": {
   "codemirror_mode": {
    "name": "ipython",
    "version": 3
   },
   "file_extension": ".py",
   "mimetype": "text/x-python",
   "name": "python",
   "nbconvert_exporter": "python",
   "pygments_lexer": "ipython3",
   "version": "3.10.16"
  }
 },
 "nbformat": 4,
 "nbformat_minor": 2
}
