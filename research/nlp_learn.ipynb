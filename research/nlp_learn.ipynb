{
 "cells": [
  {
   "cell_type": "code",
   "execution_count": 1,
   "metadata": {},
   "outputs": [],
   "source": [
    "\n",
    "stop_words = [\"ကို\", \"နဲ့\", \"တွေရဲ့\", \"ပါ\", \"ဆို\", \"ပြီး\"]  # Example stop words for Burmese\n"
   ]
  },
  {
   "cell_type": "code",
   "execution_count": 2,
   "metadata": {},
   "outputs": [],
   "source": [
    "# Define corpus with each entry as a tuple of (sentence, label)\n",
    "corpus = [\n",
    "    (\"ဒီတစ်ခုပဲကြိုက်တယ်။\"  , 1) ,\n",
    "    (\"ဒါဘယ်လောက်လဲ?\"  , 1) ,\n",
    "    (\"လျော့ဈေးနည်းလား?\"  , 1) ,\n",
    "    (\"ဒါဝယ်ချင်တယ်။\"  , 1) ,\n",
    "    (\"အရောင်အခြားတာလည်းရှိလား?\"  , 1) , \n",
    "    (\"ငါယူမယ်။\"  , 1) ,\n",
    "    (\"စမ်းကြည့်လို့ရမလား?\"  , 1) ,\n",
    "    (\"ဈေးကြီးလွန်းတယ်။\"  , 0) ,\n",
    "    (\"ကြည့်တာပဲ။\"  , 0) ,\n",
    "    (\"နောက်မှပြန်လာမယ်။\"  , 0) ,\n",
    "    (\"ယနေ့တော့မလိုဘူး။ ကျေးဇူးတင်ပါတယ်။\"  , 0) ,\n",
    "    (\"စိတ်ပြောင်းသွားပြီ။\"  , 0) ,\n",
    "    (\"ငါလိုချင်တဲ့အရာမဟုတ်ဘူး။\"  , 0) ,\n",
    "    (\"မလိုဘူး။ ကျေးဇူးတင်ပါတယ်။\"  , 0),\n",
    "    (\"ကျေးဇူး\"  , 0) ,\n",
    "    (\"မနက်ဖြန် ငါတစ်နေရာရာကို သွားမယ်။\" , 0 )\n",
    "]\n",
    "\n"
   ]
  },
  {
   "cell_type": "code",
   "execution_count": 3,
   "metadata": {},
   "outputs": [],
   "source": [
    "sentences, labels = zip(*corpus)\n"
   ]
  },
  {
   "cell_type": "code",
   "execution_count": null,
   "metadata": {},
   "outputs": [],
   "source": [
    "# from sklearn.feature_extraction.text import TfidfVectorizer\n",
    "# # import pyidaungsu as pds\n",
    "\n",
    "# # Tokenize sentences\n",
    "# tokenized_corpus = [pds.tokenize(sentence) for sentence in sentences]\n",
    "\n",
    "# # Join tokens back into a single string for TF-IDF vectorizer\n",
    "# processed_corpus = [\" \".join(tokens) for tokens in tokenized_corpus]\n",
    "\n",
    "# # Initialize the TF-IDF Vectorizer\n",
    "# vectorizer = TfidfVectorizer()\n",
    "# X = vectorizer.fit_transform(processed_corpus)\n",
    "\n",
    "# # print(\"TF-IDF Matrix:\\n\", X.toarray())\n"
   ]
  },
  {
   "cell_type": "code",
   "execution_count": 5,
   "metadata": {},
   "outputs": [],
   "source": [
    "from sklearn.model_selection import train_test_split\n",
    "from sklearn.linear_model import LogisticRegression\n",
    "from sklearn.metrics import accuracy_score\n",
    "\n",
    "# Labels (1 = Interested, 0 = Not Interested)\n",
    "\n",
    "# Split data into training and testing sets\n",
    "X_train, X_test, y_train, y_test = train_test_split(X, labels , test_size=0.2, random_state=42)\n",
    "\n",
    "# Train the classifier\n",
    "model = LogisticRegression()\n",
    "model.fit(X_train, y_train)\n",
    "\n",
    "# Predict on test data\n",
    "y_pred = model.predict(X_test)\n",
    "\n",
    "# Evaluate the model\n",
    "accuracy = accuracy_score(y_test, y_pred)\n"
   ]
  },
  {
   "cell_type": "code",
   "execution_count": 6,
   "metadata": {},
   "outputs": [],
   "source": [
    "def load_stopwords_from_file(file_path):\n",
    "    with open(file_path, \"r\", encoding=\"utf-8\") as file:\n",
    "        stopwords = [line.strip() for line in file]\n",
    "    return stopwords"
   ]
  },
  {
   "cell_type": "code",
   "execution_count": null,
   "metadata": {},
   "outputs": [],
   "source": []
  },
  {
   "cell_type": "code",
   "execution_count": 7,
   "metadata": {},
   "outputs": [],
   "source": [
    "def get_stopwords():\n",
    "    return load_stopwords_from_file(\"/home/yewinnaing/Ai-Training/research/words/stop_words.txt\")"
   ]
  },
  {
   "cell_type": "code",
   "execution_count": 8,
   "metadata": {},
   "outputs": [],
   "source": [
    "myanmar_stopwords = get_stopwords()\n",
    "# myanmar_stopwords"
   ]
  },
  {
   "cell_type": "code",
   "execution_count": 9,
   "metadata": {},
   "outputs": [],
   "source": [
    "new_sentence = \"ကျေးဇူးတင်ပါတယ်။\"\n",
    "new_sentence = pds.cvt2zg(new_sentence)"
   ]
  },
  {
   "cell_type": "code",
   "execution_count": 10,
   "metadata": {},
   "outputs": [
    {
     "name": "stdout",
     "output_type": "stream",
     "text": [
      "ေက်းဇူးတင္ပါ တယ္။\n",
      "Prediction (1 = Interested, 0 = Not Interested): 0\n"
     ]
    }
   ],
   "source": [
    "new_tokens = pds.tokenize(new_sentence , form=\"word\")\n",
    "# print(new_tokens)\n",
    "\n",
    "new_tokens = [word for word in new_tokens if word not in myanmar_stopwords]\n",
    "\n",
    "# print(new_tokens)\n",
    "\n",
    "new_processed = \" \".join(new_tokens)\n",
    "print(new_processed)\n",
    "new_features = vectorizer.transform([new_processed])\n",
    "prediction = model.predict(new_features)\n",
    "\n",
    "print(f\"Prediction (1 = Interested, 0 = Not Interested): {prediction[0]}\")\n"
   ]
  },
  {
   "cell_type": "code",
   "execution_count": 11,
   "metadata": {},
   "outputs": [],
   "source": [
    "customer_info = \"နက်ဖြန် ငါတစ်နေရာသွားမယ်။\""
   ]
  },
  {
   "cell_type": "code",
   "execution_count": 14,
   "metadata": {},
   "outputs": [],
   "source": [
    "myanmar_time_words = [\"နက်ဖြန်\"]\n"
   ]
  },
  {
   "cell_type": "code",
   "execution_count": 16,
   "metadata": {},
   "outputs": [],
   "source": [
    "from datetime import datetime, timedelta"
   ]
  },
  {
   "cell_type": "code",
   "execution_count": 21,
   "metadata": {},
   "outputs": [],
   "source": [
    "def replace_time_words_with_date(tokens ):\n",
    "    updated_tokens = []\n",
    "    today = datetime.now()\n",
    "\n",
    "    for token in tokens:\n",
    "        if token in myanmar_time_words:\n",
    "            date_str = (today + timedelta(days=1)).strftime(\"%-d-%-m-%Y\")\n",
    "            updated_tokens.append(date_str)\n",
    "        else:\n",
    "            updated_tokens.append(token)\n",
    "    \n",
    "    return updated_tokens"
   ]
  },
  {
   "cell_type": "code",
   "execution_count": 22,
   "metadata": {},
   "outputs": [
    {
     "name": "stdout",
     "output_type": "stream",
     "text": [
      "['6-4-2025', 'ငါ', 'တစ်', 'နေရာ', 'သွား', 'မယ်', '။']\n"
     ]
    }
   ],
   "source": [
    "new_tokens = pds.tokenize(customer_info , form=\"word\")\n",
    "updated_tokens = replace_time_words_with_date(new_tokens)\n",
    "print(updated_tokens)"
   ]
  }
 ],
 "metadata": {
  "kernelspec": {
   "display_name": "my_chatbot_env",
   "language": "python",
   "name": "python3"
  },
  "language_info": {
   "codemirror_mode": {
    "name": "ipython",
    "version": 3
   },
   "file_extension": ".py",
   "mimetype": "text/x-python",
   "name": "python",
   "nbconvert_exporter": "python",
   "pygments_lexer": "ipython3",
   "version": "3.10.16"
  }
 },
 "nbformat": 4,
 "nbformat_minor": 2
}
